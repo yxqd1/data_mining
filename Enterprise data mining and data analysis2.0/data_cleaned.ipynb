{
 "cells": [
  {
   "cell_type": "markdown",
   "id": "6897c655",
   "metadata": {},
   "source": [
    "**数据清洗**\n",
    "\n",
    "对于空值主要采用众数插入的方式"
   ]
  },
  {
   "cell_type": "code",
   "execution_count": 1,
   "id": "4057b0de",
   "metadata": {},
   "outputs": [
    {
     "name": "stdout",
     "output_type": "stream",
     "text": [
      "\n",
      "输出数据前5条\n",
      "               name   LS                                                 BS  \\\n",
      "0     吉林省昌农实业集团有限公司  张笑恺  一般项目：中草药种植；中草药收购；谷物种植；食用菌种植；豆类种植；油料种植；薯类种植；花卉种...   \n",
      "1   吉林省华咨工程技术集团有限公司   刘尚  工程咨询，工程设计，规划咨询，工程监理，工程造价，工程勘察与测量，地产评估，招投标代理，合同...   \n",
      "2     吉林省英辰科技股份有限公司   吴琼  一般项目：软件开发；软件销售；电子产品销售；机械设备研发；计算机软硬件及辅助设备零售；橡胶制...   \n",
      "3     吉林省寰旗科技股份有限公司  刘田影  一般项目：信息系统集成服务；广告设计、代理；广告制作；平面设计；卫星技术综合应用系统集成；卫...   \n",
      "4  长春融成智能设备制造股份有限公司  霍箭东  一般项目：通用设备制造（不含特种设备制造）；通用设备修理；专用设备制造（不含许可类专业设备制...   \n",
      "\n",
      "       RC          CT        DAC    NOI                   TOE   FS  \\\n",
      "0  4000.0   2001/4/27  长春经济技术开发区   13.0      有限责任公司（自然人投资或控股）  1.0   \n",
      "1  2000.0   2015/1/30  长春经济技术开发区    9.0         有限责任公司（自然人独资）  1.0   \n",
      "2  2200.0   2008/1/28        朝阳区   42.0  股份有限公司（非上市、自然人投资或控股）  1.0   \n",
      "3  2000.0    2010/4/8        朝阳区   37.0  股份有限公司（非上市、自然人投资或控股）  1.0   \n",
      "4  5230.0  1996/10/21        宽城区  234.0  股份有限公司（非上市、自然人投资或控股）  2.0   \n",
      "\n",
      "                IS             IBC  \n",
      "0       科学研究和技术服务业         专业技术服务业  \n",
      "1       科学研究和技术服务业         专业技术服务业  \n",
      "2  信息传输、软件和信息技术服务业      软件和信息技术服务业  \n",
      "3  信息传输、软件和信息技术服务业  电信、广播电视和卫星传输服务  \n",
      "4       科学研究和技术服务业         专业技术服务业  \n"
     ]
    }
   ],
   "source": [
    "import pandas as pd\n",
    "import os\n",
    "from sklearn.feature_extraction.text import CountVectorizer\n",
    "from sklearn.preprocessing import LabelEncoder\n",
    "from sklearn.cluster import KMeans\n",
    "csvFile='./data'+os.sep+'data01.csv'\n",
    "data = pd.read_csv(csvFile,encoding='utf-8')\n",
    "# print(data) #全部输出\n",
    "print(\"\\n输出数据前5条\")\n",
    "print(data.head()) #只输出前五条"
   ]
  },
  {
   "cell_type": "code",
   "execution_count": 2,
   "id": "c1202791",
   "metadata": {},
   "outputs": [
    {
     "name": "stdout",
     "output_type": "stream",
     "text": [
      "\n",
      "数据写入成功\n"
     ]
    }
   ],
   "source": [
    "# 指定要处理的列\n",
    "columns_to_process = ['DAC','CT','NOI', 'TOE','IS','IBC','FS','RC']  # 替换为要处理的列名称列表\n",
    "\n",
    "# 遍历每一列，计算众数并用于填充空值\n",
    "for column in columns_to_process:\n",
    "    # 计算列的众数\n",
    "    mode_value = data[column].mode()[0]\n",
    "    \n",
    "    # 使用众数替换空值\n",
    "    data[column].fillna(mode_value, inplace=True)\n",
    "\n",
    "# 保存处理后的数据集\n",
    "csvPath = os.getcwd() + os.sep + 'out' #返回根目录\n",
    "\n",
    "# 指定地址并调用函数写入\n",
    "csvFile = csvPath + os.sep + 'data_cleaned.csv'\n",
    "# 写入\n",
    "data.to_csv(csvFile,encoding='utf_8_sig',index = False)\n",
    "print('\\n数据写入成功')"
   ]
  }
 ],
 "metadata": {
  "kernelspec": {
   "display_name": "Python 3 (ipykernel)",
   "language": "python",
   "name": "python3"
  },
  "language_info": {
   "codemirror_mode": {
    "name": "ipython",
    "version": 3
   },
   "file_extension": ".py",
   "mimetype": "text/x-python",
   "name": "python",
   "nbconvert_exporter": "python",
   "pygments_lexer": "ipython3",
   "version": "3.10.9"
  }
 },
 "nbformat": 4,
 "nbformat_minor": 5
}
