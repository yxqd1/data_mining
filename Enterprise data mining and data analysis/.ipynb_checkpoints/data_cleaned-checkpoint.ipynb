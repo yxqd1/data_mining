{
 "cells": [
  {
   "cell_type": "markdown",
   "id": "6897c655",
   "metadata": {},
   "source": [
    "**数据清洗**\n",
    "\n",
    "对于空值主要采用众数插入的方式"
   ]
  },
  {
   "cell_type": "code",
   "execution_count": 2,
   "id": "4057b0de",
   "metadata": {},
   "outputs": [
    {
     "name": "stdout",
     "output_type": "stream",
     "text": [
      "\n",
      "输出数据前5条\n",
      "               name   LS         photo                                    RA  \\\n",
      "0     吉林省昌农实业集团有限公司  张笑恺  4.318588e+10  长春市经济技术开发区金川街与浦东路交汇绿城米兰公馆B栋层304、305室   \n",
      "1   吉林省华咨工程技术集团有限公司   刘尚  1.739008e+10              经济开发区洋浦大街4629号佳泰云大厦1102室   \n",
      "2     吉林省英辰科技股份有限公司   吴琼  1.850068e+10         吉林省长春市高新开发区超群街191号孵化大厦1号楼6层东侧   \n",
      "3     吉林省寰旗科技股份有限公司  刘田影  4.318259e+10                      吉林省长春市朝阳区建政路815号   \n",
      "4  长春融成智能设备制造股份有限公司  霍箭东  4.318702e+10                 吉林省长春市北湖科技开发区中盛路3088号   \n",
      "\n",
      "                                                  BS      RC          CT  \\\n",
      "0  一般项目：中草药种植；中草药收购；谷物种植；食用菌种植；豆类种植；油料种植；薯类种植；花卉种...  4000.0   2001/4/27   \n",
      "1  工程咨询，工程设计，规划咨询，工程监理，工程造价，工程勘察与测量，地产评估，招投标代理，合同...  2000.0   2015/1/30   \n",
      "2  一般项目：软件开发；软件销售；电子产品销售；机械设备研发；计算机软硬件及辅助设备零售；橡胶制...  2200.0   2008/1/28   \n",
      "3  一般项目：信息系统集成服务；广告设计、代理；广告制作；平面设计；卫星技术综合应用系统集成；卫...  2000.0    2010/4/8   \n",
      "4  一般项目：通用设备制造（不含特种设备制造）；通用设备修理；专用设备制造（不含许可类专业设备制...  5230.0  1996/10/21   \n",
      "\n",
      "         DAC    NOI   AROIN                   TOE   FS        DOA  \\\n",
      "0  长春经济技术开发区   13.0  2022.0      有限责任公司（自然人投资或控股）  1.0  2022/7/26   \n",
      "1  长春经济技术开发区    9.0  2022.0         有限责任公司（自然人独资）  1.0  2018/7/31   \n",
      "2        朝阳区   42.0  2022.0  股份有限公司（非上市、自然人投资或控股）  1.0  2023/8/15   \n",
      "3        朝阳区   37.0  2022.0  股份有限公司（非上市、自然人投资或控股）  1.0   2023/8/8   \n",
      "4        宽城区  234.0  2022.0  股份有限公司（非上市、自然人投资或控股）  2.0  2023/8/21   \n",
      "\n",
      "                IS             IBC  \\\n",
      "0       科学研究和技术服务业         专业技术服务业   \n",
      "1       科学研究和技术服务业         专业技术服务业   \n",
      "2  信息传输、软件和信息技术服务业      软件和信息技术服务业   \n",
      "3  信息传输、软件和信息技术服务业  电信、广播电视和卫星传输服务   \n",
      "4       科学研究和技术服务业         专业技术服务业   \n",
      "\n",
      "                                                  EP  \n",
      "0  吉林省昌农实业集团有限公司成立于20010427，法定代表人为张笑恺，注册资本为4000万元...  \n",
      "1  公司位于九台经济开发区，实际位置位于卡伦镇，距离长春市区仅17公里。公司配有宿舍，班车，可以...  \n",
      "2  吉林省英辰科技股份有限公司目前的主营业务主要是提供车联网技术相关服务、车载智能终端产品和其他...  \n",
      "3  吉林省寰旗科技股份有限公司成立于2010年4月，拥有吉林省鹰之眼通信技术有限公司、吉林省寰旗...  \n",
      "4  长春北方化工灌装设备股份有限公司成立于1996年，一直专注于化工后处理环节自动化灌装机器人生...  \n"
     ]
    }
   ],
   "source": [
    "import pandas as pd\n",
    "import os\n",
    "from sklearn.feature_extraction.text import CountVectorizer\n",
    "from sklearn.preprocessing import LabelEncoder\n",
    "from sklearn.cluster import KMeans\n",
    "csvFile='./data'+os.sep+'data01.csv'\n",
    "data = pd.read_csv(csvFile,encoding='utf-8')\n",
    "# print(data) #全部输出\n",
    "print(\"\\n输出数据前5条\")\n",
    "print(data.head()) #只输出前五条"
   ]
  },
  {
   "cell_type": "code",
   "execution_count": 3,
   "id": "c1202791",
   "metadata": {},
   "outputs": [
    {
     "name": "stdout",
     "output_type": "stream",
     "text": [
      "\n",
      "数据写入成功\n"
     ]
    }
   ],
   "source": [
    "# 指定要处理的列\n",
    "columns_to_process = ['DAC','NOI','AROIN', 'TOE','IS','IBC','FS','RC']  # 替换为要处理的列名称列表\n",
    "\n",
    "# 遍历每一列，计算众数并用于填充空值\n",
    "for column in columns_to_process:\n",
    "    # 计算列的众数\n",
    "    mode_value = data[column].mode()[0]\n",
    "    \n",
    "    # 使用众数替换空值\n",
    "    data[column].fillna(mode_value, inplace=True)\n",
    "\n",
    "# 保存处理后的数据集\n",
    "csvPath = os.getcwd() + os.sep + 'out' #返回根目录\n",
    "\n",
    "# 指定地址并调用函数写入\n",
    "csvFile = csvPath + os.sep + 'data_cleaned.csv'\n",
    "# 写入\n",
    "data.to_csv(csvFile,encoding='utf_8_sig',index = False)\n",
    "print('\\n数据写入成功')"
   ]
  }
 ],
 "metadata": {
  "kernelspec": {
   "display_name": "Python 3 (ipykernel)",
   "language": "python",
   "name": "python3"
  },
  "language_info": {
   "codemirror_mode": {
    "name": "ipython",
    "version": 3
   },
   "file_extension": ".py",
   "mimetype": "text/x-python",
   "name": "python",
   "nbconvert_exporter": "python",
   "pygments_lexer": "ipython3",
   "version": "3.10.9"
  }
 },
 "nbformat": 4,
 "nbformat_minor": 5
}
